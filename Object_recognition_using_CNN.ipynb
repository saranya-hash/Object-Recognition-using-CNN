{
  "nbformat": 4,
  "nbformat_minor": 0,
  "metadata": {
    "colab": {
      "name": "Object recognition using CNN.ipynb",
      "provenance": [],
      "collapsed_sections": [],
      "mount_file_id": "1JO86EAlxemEKusrZ-ZCk2l6FDCGfu2mA",
      "authorship_tag": "ABX9TyMzzB2rhYo13Oc5U/O/PwMN",
      "include_colab_link": true
    },
    "kernelspec": {
      "name": "python3",
      "display_name": "Python 3"
    }
  },
  "cells": [
    {
      "cell_type": "markdown",
      "metadata": {
        "id": "view-in-github",
        "colab_type": "text"
      },
      "source": [
        "<a href=\"https://colab.research.google.com/github/saranya-hash/Object-Recognition-using-CNN/blob/main/Object_recognition_using_CNN.ipynb\" target=\"_parent\"><img src=\"https://colab.research.google.com/assets/colab-badge.svg\" alt=\"Open In Colab\"/></a>"
      ]
    },
    {
      "cell_type": "markdown",
      "metadata": {
        "id": "5aoV69PCQ344"
      },
      "source": [
        "# Installation and set up"
      ]
    },
    {
      "cell_type": "code",
      "metadata": {
        "id": "u3gyC7gVQ-hO",
        "colab": {
          "base_uri": "https://localhost:8080/"
        },
        "outputId": "beee1409-015e-4586-ad89-e9edacb54b67"
      },
      "source": [
        "#Installing tensor flow\n",
        "!pip install -q tensorflow-gpu"
      ],
      "execution_count": null,
      "outputs": [
        {
          "output_type": "stream",
          "text": [
            "\u001b[K     |████████████████████████████████| 320.4MB 47kB/s \n",
            "\u001b[?25h"
          ],
          "name": "stdout"
        }
      ]
    },
    {
      "cell_type": "code",
      "metadata": {
        "id": "O-aDUaDxSX7C",
        "colab": {
          "base_uri": "https://localhost:8080/"
        },
        "outputId": "23cf9002-b3c9-4b5b-cb6d-9879a7e9b6d7"
      },
      "source": [
        "import tensorflow as tf\n",
        "print(tf.__version__)"
      ],
      "execution_count": null,
      "outputs": [
        {
          "output_type": "stream",
          "text": [
            "2.3.1\n"
          ],
          "name": "stdout"
        }
      ]
    },
    {
      "cell_type": "code",
      "metadata": {
        "id": "oXwQTq1iSibO"
      },
      "source": [
        "import numpy as np\n",
        "import pandas as pd\n",
        "import matplotlib.pyplot as plt\n"
      ],
      "execution_count": null,
      "outputs": []
    },
    {
      "cell_type": "markdown",
      "metadata": {
        "id": "V7Cv-04jSxcd"
      },
      "source": [
        "# Data Preprocessing"
      ]
    },
    {
      "cell_type": "code",
      "metadata": {
        "id": "ze05CSJzS7G3"
      },
      "source": [
        "#importing the dataset cifar 10 is inbulit dataset\n",
        "from tensorflow.keras.datasets import cifar10\n"
      ],
      "execution_count": null,
      "outputs": []
    },
    {
      "cell_type": "code",
      "metadata": {
        "id": "rrArh8DnT9nI",
        "colab": {
          "base_uri": "https://localhost:8080/"
        },
        "outputId": "aa683758-5965-4a13-92f0-bee226210395"
      },
      "source": [
        "#loading the dataset\n",
        "(x_train,y_train),(x_test,y_test)=cifar10.load_data()"
      ],
      "execution_count": null,
      "outputs": [
        {
          "output_type": "stream",
          "text": [
            "Downloading data from https://www.cs.toronto.edu/~kriz/cifar-10-python.tar.gz\n",
            "170500096/170498071 [==============================] - 2s 0us/step\n"
          ],
          "name": "stdout"
        }
      ]
    },
    {
      "cell_type": "code",
      "metadata": {
        "id": "zeCfheahUnrA"
      },
      "source": [
        "class_names={'0':'airplane','1':'automobile','2':'bird','3':'cat','4':'deer','5':'dog','6':'frog','7':'horse','8':'ship','9':'truck'}"
      ],
      "execution_count": null,
      "outputs": []
    },
    {
      "cell_type": "code",
      "metadata": {
        "id": "nFsyYvWaWsn7",
        "colab": {
          "base_uri": "https://localhost:8080/"
        },
        "outputId": "e0483700-7407-464c-83f0-9472ce8d58a1"
      },
      "source": [
        "print(class_names)"
      ],
      "execution_count": null,
      "outputs": [
        {
          "output_type": "stream",
          "text": [
            "{'0': 'airplane', '1': 'automobile', '2': 'bird', '3': 'cat', '4': 'deer', '5': 'dog', '6': 'frog', '7': 'horse', '8': 'ship', '9': 'truck'}\n"
          ],
          "name": "stdout"
        }
      ]
    },
    {
      "cell_type": "code",
      "metadata": {
        "id": "2fIQ2uZ1W5Th",
        "colab": {
          "base_uri": "https://localhost:8080/"
        },
        "outputId": "92be504d-2420-402a-a9c6-00b59c0d47f2"
      },
      "source": [
        "x_train.min(),x_train.max(),x_train.mean()"
      ],
      "execution_count": null,
      "outputs": [
        {
          "output_type": "execute_result",
          "data": {
            "text/plain": [
              "(0, 255, 120.70756512369792)"
            ]
          },
          "metadata": {
            "tags": []
          },
          "execution_count": 14
        }
      ]
    },
    {
      "cell_type": "code",
      "metadata": {
        "id": "r49Son63X2uy",
        "colab": {
          "base_uri": "https://localhost:8080/"
        },
        "outputId": "a8e4797a-7e1a-4fd3-eeef-4ca7a0a95805"
      },
      "source": [
        "y_train.min(),y_train.max()"
      ],
      "execution_count": null,
      "outputs": [
        {
          "output_type": "execute_result",
          "data": {
            "text/plain": [
              "(0, 9)"
            ]
          },
          "metadata": {
            "tags": []
          },
          "execution_count": 15
        }
      ]
    },
    {
      "cell_type": "code",
      "metadata": {
        "id": "IUg3imBYYQUZ"
      },
      "source": [
        "#normalize these images\n",
        "x_train=x_train/255.0\n",
        "x_test=x_test/255.0"
      ],
      "execution_count": null,
      "outputs": []
    },
    {
      "cell_type": "code",
      "metadata": {
        "id": "7Ch6p1dZYgF-",
        "colab": {
          "base_uri": "https://localhost:8080/"
        },
        "outputId": "492455ac-81cb-41d1-970c-111d03e14fe8"
      },
      "source": [
        "x_train.min(),x_train.max(),x_train.mean()"
      ],
      "execution_count": null,
      "outputs": [
        {
          "output_type": "execute_result",
          "data": {
            "text/plain": [
              "(0.0, 1.0, 0.4733630004850874)"
            ]
          },
          "metadata": {
            "tags": []
          },
          "execution_count": 17
        }
      ]
    },
    {
      "cell_type": "code",
      "metadata": {
        "id": "0RlRINLvYlPA",
        "colab": {
          "base_uri": "https://localhost:8080/"
        },
        "outputId": "5182bb23-5758-420b-e061-e3e3a65ade40"
      },
      "source": [
        "x_train.shape,x_test.shape"
      ],
      "execution_count": null,
      "outputs": [
        {
          "output_type": "execute_result",
          "data": {
            "text/plain": [
              "((50000, 32, 32, 3), (10000, 32, 32, 3))"
            ]
          },
          "metadata": {
            "tags": []
          },
          "execution_count": 18
        }
      ]
    },
    {
      "cell_type": "code",
      "metadata": {
        "id": "rgzPh_CrZJgu",
        "colab": {
          "base_uri": "https://localhost:8080/",
          "height": 284
        },
        "outputId": "15ff8000-86ec-4345-9b7c-d62de8b21293"
      },
      "source": [
        "plt.imshow(x_train[0])"
      ],
      "execution_count": null,
      "outputs": [
        {
          "output_type": "execute_result",
          "data": {
            "text/plain": [
              "<matplotlib.image.AxesImage at 0x7fd03c886dd8>"
            ]
          },
          "metadata": {
            "tags": []
          },
          "execution_count": 21
        },
        {
          "output_type": "display_data",
          "data": {
            "image/png": "[encoded data removed]",
            "text/plain": [
              "<Figure size 432x288 with 1 Axes>"
            ]
          },
          "metadata": {
            "tags": [],
            "needs_background": "light"
          }
        }
      ]
    },
    {
      "cell_type": "code",
      "metadata": {
        "id": "O1s-KaGZZh-u",
        "colab": {
          "base_uri": "https://localhost:8080/"
        },
        "outputId": "e3ceada5-07e5-41b2-db6c-337b5bd35c0b"
      },
      "source": [
        "y_train[0]"
      ],
      "execution_count": null,
      "outputs": [
        {
          "output_type": "execute_result",
          "data": {
            "text/plain": [
              "array([6], dtype=uint8)"
            ]
          },
          "metadata": {
            "tags": []
          },
          "execution_count": 22
        }
      ]
    },
    {
      "cell_type": "markdown",
      "metadata": {
        "id": "M5ahLFLOfU98"
      },
      "source": [
        "# Building CNN"
      ]
    },
    {
      "cell_type": "code",
      "metadata": {
        "id": "VnvErHS8fZ97"
      },
      "source": [
        "#Defining the object\n",
        "model=tf.keras.models.Sequential()"
      ],
      "execution_count": null,
      "outputs": []
    },
    {
      "cell_type": "code",
      "metadata": {
        "id": "DhHwbxx0jXRn"
      },
      "source": [
        "#Adding first convolutional layer\n",
        "#number of filters(kernal)=32\n",
        "#kernal size=3\n",
        "#padding=same\n",
        "#activation function=ReLu\n",
        "#input shape=(32,32,3)\n",
        "model.add(tf.keras.layers.Conv2D(filters=32,kernel_size=3,padding='same',activation='relu',input_shape=[32,32,3]))"
      ],
      "execution_count": null,
      "outputs": []
    },
    {
      "cell_type": "code",
      "metadata": {
        "id": "IbVUXxDjq2Ey"
      },
      "source": [
        "#Adding 2nd CNN layer and maxpool layer\n",
        "#number of filters(kernal)=32\n",
        "#kernal size=3\n",
        "#padding=same\n",
        "#activation function=ReLu\n",
        "model.add(tf.keras.layers.Conv2D(filters=32,kernel_size=3,padding='same',activation='relu'))\n",
        "#max pool layer parameters\n",
        "#1.pool size=2\n",
        "#2.strides=2\n",
        "#3.padding=valid\n",
        "model.add(tf.keras.layers.MaxPool2D(pool_size=2,strides=2,padding='valid'))"
      ],
      "execution_count": null,
      "outputs": []
    },
    {
      "cell_type": "code",
      "metadata": {
        "id": "WQ9USCx9scQJ"
      },
      "source": [
        "#Adding third CNN layer\n",
        "#number of filters(kernal)=64\n",
        "#kernal size=3\n",
        "#padding=same\n",
        "#activation function=ReLu\n",
        "model.add(tf.keras.layers.Conv2D(filters=64,kernel_size=3,padding='same',activation='relu'))\n"
      ],
      "execution_count": null,
      "outputs": []
    },
    {
      "cell_type": "code",
      "metadata": {
        "id": "tx6OoqJZs-RY"
      },
      "source": [
        "#Adding one more CNN and max pool layer\n",
        "#number of filters(kernal)=64\n",
        "#kernal size=3\n",
        "#padding=same\n",
        "#activation function=ReLu\n",
        "model.add(tf.keras.layers.Conv2D(filters=64,kernel_size=3,padding='same',activation='relu'))\n",
        "#max pool layer parameters\n",
        "#1.pool size=2\n",
        "#2.strides=2\n",
        "#3.padding=valid\n",
        "model.add(tf.keras.layers.MaxPool2D(pool_size=2,strides=2,padding='valid'))"
      ],
      "execution_count": null,
      "outputs": []
    },
    {
      "cell_type": "code",
      "metadata": {
        "id": "Fzvl-os1tZYr"
      },
      "source": [
        "#Adding the drop out layer\n",
        "model.add(tf.keras.layers.Dropout(0.4))"
      ],
      "execution_count": null,
      "outputs": []
    },
    {
      "cell_type": "code",
      "metadata": {
        "id": "VCxGPdCxtr1E"
      },
      "source": [
        "#Adding the flatenning layer\n",
        "model.add(tf.keras.layers.Flatten())"
      ],
      "execution_count": null,
      "outputs": []
    },
    {
      "cell_type": "code",
      "metadata": {
        "id": "cGs3-NItt7Xb"
      },
      "source": [
        "#adding first dense layer\n",
        "model.add(tf.keras.layers.Dense(units=128,activation='relu'))"
      ],
      "execution_count": null,
      "outputs": []
    },
    {
      "cell_type": "code",
      "metadata": {
        "id": "qtZ6dUSJuQ5s"
      },
      "source": [
        "#adding the second dense layer \n",
        "#output layer\n",
        "model.add(tf.keras.layers.Dense(units=10,activation='softmax'))"
      ],
      "execution_count": null,
      "outputs": []
    },
    {
      "cell_type": "code",
      "metadata": {
        "id": "VhCE_LDGum_9",
        "colab": {
          "base_uri": "https://localhost:8080/"
        },
        "outputId": "8a6e6ca4-d3a1-4a35-b809-c753b2bf2110"
      },
      "source": [
        "model.summary()"
      ],
      "execution_count": null,
      "outputs": [
        {
          "output_type": "stream",
          "text": [
            "Model: \"sequential\"\n",
            "_________________________________________________________________\n",
            "Layer (type)                 Output Shape              Param #   \n",
            "=================================================================\n",
            "conv2d (Conv2D)              (None, 32, 32, 32)        896       \n",
            "_________________________________________________________________\n",
            "conv2d_1 (Conv2D)            (None, 32, 32, 32)        9248      \n",
            "_________________________________________________________________\n",
            "max_pooling2d (MaxPooling2D) (None, 16, 16, 32)        0         \n",
            "_________________________________________________________________\n",
            "conv2d_2 (Conv2D)            (None, 16, 16, 64)        18496     \n",
            "_________________________________________________________________\n",
            "conv2d_3 (Conv2D)            (None, 16, 16, 64)        36928     \n",
            "_________________________________________________________________\n",
            "max_pooling2d_1 (MaxPooling2 (None, 8, 8, 64)          0         \n",
            "_________________________________________________________________\n",
            "dropout (Dropout)            (None, 8, 8, 64)          0         \n",
            "_________________________________________________________________\n",
            "flatten (Flatten)            (None, 4096)              0         \n",
            "_________________________________________________________________\n",
            "dense (Dense)                (None, 128)               524416    \n",
            "_________________________________________________________________\n",
            "dense_1 (Dense)              (None, 10)                1290      \n",
            "=================================================================\n",
            "Total params: 591,274\n",
            "Trainable params: 591,274\n",
            "Non-trainable params: 0\n",
            "_________________________________________________________________\n"
          ],
          "name": "stdout"
        }
      ]
    },
    {
      "cell_type": "markdown",
      "metadata": {
        "id": "_18lyvJgvaa-"
      },
      "source": [
        "# Training the model"
      ]
    },
    {
      "cell_type": "code",
      "metadata": {
        "id": "909zlS7nvei2"
      },
      "source": [
        "#compiling the model\n",
        "model.compile(loss='sparse_categorical_crossentropy',optimizer='adam',metrics=['sparse_categorical_accuracy'])"
      ],
      "execution_count": null,
      "outputs": []
    },
    {
      "cell_type": "code",
      "metadata": {
        "id": "nzw5GpA4xlh-",
        "colab": {
          "base_uri": "https://localhost:8080/"
        },
        "outputId": "633efd4c-48ea-4285-c3c6-a03dff17a822"
      },
      "source": [
        "model.fit(x_train,y_train,batch_size=10,epochs=10)"
      ],
      "execution_count": null,
      "outputs": [
        {
          "output_type": "stream",
          "text": [
            "Epoch 1/10\n",
            "5000/5000 [==============================] - 307s 61ms/step - loss: 1.4020 - sparse_categorical_accuracy: 0.4931\n",
            "Epoch 2/10\n",
            "5000/5000 [==============================] - 309s 62ms/step - loss: 1.0011 - sparse_categorical_accuracy: 0.6459\n",
            "Epoch 3/10\n",
            "5000/5000 [==============================] - 306s 61ms/step - loss: 0.8574 - sparse_categorical_accuracy: 0.6963\n",
            "Epoch 4/10\n",
            "5000/5000 [==============================] - 308s 62ms/step - loss: 0.7700 - sparse_categorical_accuracy: 0.7294\n",
            "Epoch 5/10\n",
            "5000/5000 [==============================] - 307s 61ms/step - loss: 0.7100 - sparse_categorical_accuracy: 0.7514\n",
            "Epoch 6/10\n",
            "5000/5000 [==============================] - 307s 61ms/step - loss: 0.6569 - sparse_categorical_accuracy: 0.7672\n",
            "Epoch 7/10\n",
            "5000/5000 [==============================] - 307s 61ms/step - loss: 0.6177 - sparse_categorical_accuracy: 0.7822\n",
            "Epoch 8/10\n",
            "5000/5000 [==============================] - 308s 62ms/step - loss: 0.5838 - sparse_categorical_accuracy: 0.7941\n",
            "Epoch 9/10\n",
            "5000/5000 [==============================] - 306s 61ms/step - loss: 0.5506 - sparse_categorical_accuracy: 0.8055\n",
            "Epoch 10/10\n",
            "5000/5000 [==============================] - 309s 62ms/step - loss: 0.5223 - sparse_categorical_accuracy: 0.8165\n"
          ],
          "name": "stdout"
        },
        {
          "output_type": "execute_result",
          "data": {
            "text/plain": [
              "<tensorflow.python.keras.callbacks.History at 0x7fd032ef9fd0>"
            ]
          },
          "metadata": {
            "tags": []
          },
          "execution_count": 40
        }
      ]
    },
    {
      "cell_type": "code",
      "metadata": {
        "id": "7YxwDGM-HRwg"
      },
      "source": [
        "model.save(\"model_imageclass.h5\")"
      ],
      "execution_count": null,
      "outputs": []
    },
    {
      "cell_type": "markdown",
      "metadata": {
        "id": "Grrq-pMJHbX9"
      },
      "source": [
        "# Model Evaluation and Performance"
      ]
    },
    {
      "cell_type": "code",
      "metadata": {
        "id": "Yf01HbFeHm7j",
        "colab": {
          "base_uri": "https://localhost:8080/"
        },
        "outputId": "29cd4f4a-1627-4f8e-b818-d46defb77f1c"
      },
      "source": [
        "#evaluate model performance\n",
        "test_loss,test_acc=model.evaluate(x_test,y_test)"
      ],
      "execution_count": null,
      "outputs": [
        {
          "output_type": "stream",
          "text": [
            "313/313 [==============================] - 13s 43ms/step - loss: 0.7475 - sparse_categorical_accuracy: 0.7493\n"
          ],
          "name": "stdout"
        }
      ]
    },
    {
      "cell_type": "code",
      "metadata": {
        "id": "NC7LVNxfINmk",
        "colab": {
          "base_uri": "https://localhost:8080/"
        },
        "outputId": "c2579075-ec4e-4fbe-f3c4-97d028bdf4f7"
      },
      "source": [
        "print(test_acc)"
      ],
      "execution_count": null,
      "outputs": [
        {
          "output_type": "stream",
          "text": [
            "0.7493000030517578\n"
          ],
          "name": "stdout"
        }
      ]
    },
    {
      "cell_type": "code",
      "metadata": {
        "id": "lXCxJZNdISaj"
      },
      "source": [
        "#prediction\n",
        "y_pred=model.predict_classes(x_test)"
      ],
      "execution_count": null,
      "outputs": []
    },
    {
      "cell_type": "code",
      "metadata": {
        "id": "cYg2U5mAJL8g",
        "colab": {
          "base_uri": "https://localhost:8080/"
        },
        "outputId": "d869501d-71df-473a-de4d-33963ca0d9f7"
      },
      "source": [
        "print(y_pred[0]) \n",
        "print(y_test[0])"
      ],
      "execution_count": null,
      "outputs": [
        {
          "output_type": "stream",
          "text": [
            "3\n",
            "[3]\n"
          ],
          "name": "stdout"
        }
      ]
    },
    {
      "cell_type": "code",
      "metadata": {
        "id": "POEqkR8ZJ0qR",
        "colab": {
          "base_uri": "https://localhost:8080/"
        },
        "outputId": "35420d10-66fc-4ae2-be02-b0a0e983e8cb"
      },
      "source": [
        "#confusion matrix\n",
        "from sklearn.metrics import confusion_matrix,accuracy_score\n",
        "cm=confusion_matrix(y_test,y_pred)\n",
        "print(cm)"
      ],
      "execution_count": null,
      "outputs": [
        {
          "output_type": "stream",
          "text": [
            "[[797  24  30  12  15   7   8  10  49  48]\n",
            " [  8 877   4   5   1   1   4   2  17  81]\n",
            " [ 73   4 559  62 129  62  63  19  11  18]\n",
            " [ 26  16  43 537  85 158  63  39  14  19]\n",
            " [ 17   4  28  42 796  18  40  43   5   7]\n",
            " [ 15   6  26 178  64 641  19  32   5  14]\n",
            " [  7   5  28  51  59  26 806   4  10   4]\n",
            " [ 18   5  30  39  70  50   4 760   3  21]\n",
            " [ 55  43   8   8   4   2   8   5 845  22]\n",
            " [ 17  66   4   7   3   1   5   8  14 875]]\n"
          ],
          "name": "stdout"
        }
      ]
    },
    {
      "cell_type": "code",
      "metadata": {
        "id": "dW-NcG3cKhjH",
        "colab": {
          "base_uri": "https://localhost:8080/"
        },
        "outputId": "f8c35034-c047-4623-c0c0-af4246d01fe6"
      },
      "source": [
        "acc_cm=accuracy_score(y_test,y_pred)\n",
        "acc_cm"
      ],
      "execution_count": null,
      "outputs": [
        {
          "output_type": "execute_result",
          "data": {
            "text/plain": [
              "0.7493"
            ]
          },
          "metadata": {
            "tags": []
          },
          "execution_count": 55
        }
      ]
    },
    {
      "cell_type": "code",
      "metadata": {
        "id": "IxR3NTFLQlNf"
      },
      "source": [
        "from keras.preprocessing.image import load_img\n",
        "from keras.preprocessing.image import img_to_array\n",
        "from keras.models import load_model\n",
        " "
      ],
      "execution_count": null,
      "outputs": []
    },
    {
      "cell_type": "code",
      "metadata": {
        "id": "kpoBCx7xLHuf"
      },
      "source": [
        "#loading and display of image\n",
        "def load_image(filename):\n",
        "  img=load_img(filename,target_size=(32,32))\n",
        "  img=img_to_array(img)\n",
        "  img=img.reshape(1,32,32,3)\n",
        "  img=img.astype('float32')\n",
        "  img=img/255.0\n",
        "  return(img)"
      ],
      "execution_count": null,
      "outputs": []
    },
    {
      "cell_type": "code",
      "metadata": {
        "id": "hSnYxrmcQEnO",
        "colab": {
          "base_uri": "https://localhost:8080/",
          "height": 105
        },
        "outputId": "cf0c41bc-6995-46b0-d19f-19c7275155ad"
      },
      "source": [
        "img=load_img(\"/content/drive/My Drive/sample_image-1.png\",grayscale=True,target_size=(32,32))\n",
        "display(img)"
      ],
      "execution_count": null,
      "outputs": [
        {
          "output_type": "stream",
          "text": [
            "/usr/local/lib/python3.6/dist-packages/keras_preprocessing/image/utils.py:107: UserWarning: grayscale is deprecated. Please use color_mode = \"grayscale\"\n",
            "  warnings.warn('grayscale is deprecated. Please use '\n"
          ],
          "name": "stderr"
        },
        {
          "output_type": "display_data",
          "data": {
            "image/png": "[encoded data removed]",
            "text/plain": [
              "<PIL.Image.Image image mode=L size=32x32 at 0x7FD02823F4E0>"
            ]
          },
          "metadata": {
            "tags": []
          }
        }
      ]
    },
    {
      "cell_type": "code",
      "metadata": {
        "id": "CMDtBVvaQpCV",
        "colab": {
          "base_uri": "https://localhost:8080/"
        },
        "outputId": "ede03e40-db28-4528-cb54-5281290c0cd2"
      },
      "source": [
        "def run():\n",
        "  img=load_image(\"/content/drive/My Drive/sample_image-1.png\")\n",
        "  model=load_model(\"model_imageclass.h5\")\n",
        "  r=model.predict_classes(img)\n",
        "  #print(r[0])\n",
        "  x=r[0]\n",
        "  return x\n",
        "x=run()\n",
        "print(x)\n",
        "x=str(x)\n",
        "print(class_names[x])"
      ],
      "execution_count": null,
      "outputs": [
        {
          "output_type": "stream",
          "text": [
            "WARNING:tensorflow:11 out of the last 11 calls to <function Model.make_predict_function.<locals>.predict_function at 0x7fd0265d5e18> triggered tf.function retracing. Tracing is expensive and the excessive number of tracings could be due to (1) creating @tf.function repeatedly in a loop, (2) passing tensors with different shapes, (3) passing Python objects instead of tensors. For (1), please define your @tf.function outside of the loop. For (2), @tf.function has experimental_relax_shapes=True option that relaxes argument shapes that can avoid unnecessary retracing. For (3), please refer to https://www.tensorflow.org/tutorials/customization/performance#python_or_tensor_args and https://www.tensorflow.org/api_docs/python/tf/function for  more details.\n",
            "4\n",
            "deer\n"
          ],
          "name": "stdout"
        }
      ]
    },
    {
      "cell_type": "code",
      "metadata": {
        "id": "2lBAV8nqUPH3",
        "colab": {
          "base_uri": "https://localhost:8080/"
        },
        "outputId": "aa3dfcf1-5a4d-4986-ee9a-2c71818c7627"
      },
      "source": [
        "def run():\n",
        "  img=load_image(\"/content/drive/My Drive/cat.jpg\")\n",
        "  model=load_model(\"model_imageclass.h5\")\n",
        "  r=model.predict_classes(img)\n",
        "  #print(r[0])\n",
        "  x=r[0]\n",
        "  return x\n",
        "x=run()\n",
        "print(x)\n",
        "x=str(x)\n",
        "print(class_names[x])"
      ],
      "execution_count": null,
      "outputs": [
        {
          "output_type": "stream",
          "text": [
            "WARNING:tensorflow:11 out of the last 11 calls to <function Model.make_predict_function.<locals>.predict_function at 0x7fd026676e18> triggered tf.function retracing. Tracing is expensive and the excessive number of tracings could be due to (1) creating @tf.function repeatedly in a loop, (2) passing tensors with different shapes, (3) passing Python objects instead of tensors. For (1), please define your @tf.function outside of the loop. For (2), @tf.function has experimental_relax_shapes=True option that relaxes argument shapes that can avoid unnecessary retracing. For (3), please refer to https://www.tensorflow.org/tutorials/customization/performance#python_or_tensor_args and https://www.tensorflow.org/api_docs/python/tf/function for  more details.\n",
            "3\n",
            "cat\n"
          ],
          "name": "stdout"
        }
      ]
    }
  ]
}